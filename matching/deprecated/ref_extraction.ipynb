{
 "cells": [
  {
   "cell_type": "code",
   "execution_count": 1,
   "metadata": {},
   "outputs": [],
   "source": [
    "from data_model import *\n",
    "from decimal import Decimal\n",
    "from pprint import pprint\n",
    "from time import time\n",
    "from copy import deepcopy\n",
    "import pandas as pd # should not be used\n",
    "pd.set_option('display.max_columns', 50)\n",
    "\n",
    "import re, os, pickle\n",
    "import itertools\n",
    "import random, string\n",
    "import collections\n",
    "from utils import *"
   ]
  },
  {
   "cell_type": "code",
   "execution_count": 2,
   "metadata": {},
   "outputs": [],
   "source": [
    "# BASE 104 MXG2000 A 34761934 TRADING MX00000000033560259\n",
    "# reg_expr = r\"104 RETTIL AANNKXPUNIN 2 A \\d{8}\"\n",
    "# reg_expr = r\"BASE 104 MXG2000 A \\d{8} TRADING MX0{9}[1-9]\\d{7}\"\n",
    "# reg_expr = r\"RETAIL BANKING 2 A \\d{8}\"\n",
    "# reg_expr = r\"ACH A \\d{8} \\d{3}-\\d{5}\" # BAD\n",
    "# reg_expr = r\"ISLIG001\\s\\d{2}-[A-Z]{3}-\\d{2}\\s104\\sIBG\\sA\\s\\d{8}.*\\d{22}[A-Z0-9]*\""
   ]
  },
  {
   "cell_type": "code",
   "execution_count": 14,
   "metadata": {},
   "outputs": [],
   "source": [
    "##\n",
    "## Export matched transactions \n",
    "## \n",
    "\n",
    "all_matched = arr_mtch2 + arr_mtch3 + arr_mtch4\n",
    "\n",
    "output = []\n",
    "for x in all_matched:\n",
    "    set_id = x.set_id.split('_')[1]\n",
    "    xs = x.item_id.split('_')\n",
    "    item_id = xs[0]\n",
    "    file_id = xs[1]\n",
    "    file_name = file_dict[file_id].split('.')[0]\n",
    "    output.append((file_name, set_id, item_id))\n",
    "    \n",
    "output = sorted(output, key = lambda x : x[0])\n",
    "stats = {k:list(v) for k,v in itertools.groupby(output, key = lambda x : x[0])}\n",
    "\n",
    "with open(\"matched_trns.pkl\", 'wb') as f:\n",
    "    pickle.dump(stats, f)"
   ]
  },
  {
   "cell_type": "code",
   "execution_count": 62,
   "metadata": {},
   "outputs": [],
   "source": [
    "data = pd.DataFrame(arr_all, columns=['Set ID', 'Amount', 'Type', 'Match ID', 'Item ID', 'REF_KEY', 'SL_type']) \n",
    "PATH2 = \"/Users/sasha/Work/Projects/matching_experiment/data/OCBC2_EX/\"\n",
    "data.to_excel(PATH2 + 'ALL.xlsx', index=False, header = True)"
   ]
  },
  {
   "cell_type": "code",
   "execution_count": 51,
   "metadata": {},
   "outputs": [],
   "source": [
    "def match_key(arr_key):\n",
    "    arr_key = sorted(arr_key, key=get_comb_key)\n",
    "    groups = [list(value) for key, value in groupby(arr_key, key=get_comb_key)]\n",
    "    tr_matched = []\n",
    "    for group in groups:\n",
    "        net_sum = sum(x.amount for x in group)\n",
    "        if net_sum == 0:\n",
    "            #print(\"Complete match found\")\n",
    "            tr_matched += [x.item_id for x in group]\n",
    "    return tr_matched"
   ]
  },
  {
   "cell_type": "code",
   "execution_count": 77,
   "metadata": {},
   "outputs": [
    {
     "ename": "NameError",
     "evalue": "name 'match_key' is not defined",
     "output_type": "error",
     "traceback": [
      "\u001b[0;31m---------------------------------------------------------------------------\u001b[0m",
      "\u001b[0;31mNameError\u001b[0m                                 Traceback (most recent call last)",
      "\u001b[0;32m<ipython-input-77-7fee73e23501>\u001b[0m in \u001b[0;36m<module>\u001b[0;34m()\u001b[0m\n\u001b[1;32m      2\u001b[0m \u001b[0;31m# this needs additional investigation\u001b[0m\u001b[0;34m\u001b[0m\u001b[0;34m\u001b[0m\u001b[0m\n\u001b[1;32m      3\u001b[0m \u001b[0marr_www\u001b[0m \u001b[0;34m=\u001b[0m \u001b[0mcreate_uk\u001b[0m\u001b[0;34m(\u001b[0m\u001b[0marr_all7\u001b[0m\u001b[0;34m,\u001b[0m \u001b[0;34mr\"MX0{9}[1-9]\\d{7}-\\d+-\\d{8}\"\u001b[0m\u001b[0;34m,\u001b[0m \u001b[0;32mlambda\u001b[0m \u001b[0mx\u001b[0m \u001b[0;34m:\u001b[0m \u001b[0mx\u001b[0m\u001b[0;34m.\u001b[0m\u001b[0msplit\u001b[0m\u001b[0;34m(\u001b[0m\u001b[0;34m\"-\"\u001b[0m\u001b[0;34m)\u001b[0m\u001b[0;34m[\u001b[0m\u001b[0;36m2\u001b[0m\u001b[0;34m]\u001b[0m\u001b[0;34m)\u001b[0m\u001b[0;34m\u001b[0m\u001b[0m\n\u001b[0;32m----> 4\u001b[0;31m \u001b[0mtr_matched\u001b[0m \u001b[0;34m=\u001b[0m \u001b[0mmatch_key\u001b[0m\u001b[0;34m(\u001b[0m\u001b[0marr_www\u001b[0m\u001b[0;34m)\u001b[0m\u001b[0;34m\u001b[0m\u001b[0m\n\u001b[0m\u001b[1;32m      5\u001b[0m \u001b[0mtr_matched_set\u001b[0m \u001b[0;34m=\u001b[0m \u001b[0mset\u001b[0m\u001b[0;34m(\u001b[0m\u001b[0mtr_matched\u001b[0m\u001b[0;34m)\u001b[0m\u001b[0;34m\u001b[0m\u001b[0m\n\u001b[1;32m      6\u001b[0m \u001b[0;32massert\u001b[0m \u001b[0mlen\u001b[0m\u001b[0;34m(\u001b[0m\u001b[0mtr_matched_set\u001b[0m\u001b[0;34m)\u001b[0m \u001b[0;34m==\u001b[0m \u001b[0mlen\u001b[0m\u001b[0;34m(\u001b[0m\u001b[0mtr_matched\u001b[0m\u001b[0;34m)\u001b[0m\u001b[0;34m\u001b[0m\u001b[0m\n",
      "\u001b[0;31mNameError\u001b[0m: name 'match_key' is not defined"
     ]
    }
   ],
   "source": [
    "len([x.ref_key for x in arr_all7 if re.search(\"MX0{9}[1-9]\\d{8}\", x.ref_key)])\n",
    "# this needs additional investigation\n",
    "arr_www = create_uk(arr_all7, r\"MX0{9}[1-9]\\d{7}-\\d+-\\d{8}\", lambda x : x.split(\"-\")[2])\n",
    "tr_matched = match_key(arr_www)\n",
    "tr_matched_set = set(tr_matched)\n",
    "assert len(tr_matched_set) == len(tr_matched)\n",
    "#print(\"Number of transactions covered:\", len(arr_www))\n",
    "#consist_un = check_consistency(arr_www, exclude_unique = True)\n",
    "#consist_nn = check_consistency(arr_www, exclude_unique = False)\n",
    "#print(\"Consistency without singles: \", consist_un)\n",
    "#print(\"Consistency with singles: \", consist_nn)"
   ]
  },
  {
   "cell_type": "code",
   "execution_count": 18,
   "metadata": {},
   "outputs": [],
   "source": [
    "arr_all8 = [x for x in arr_all7 if not x.item_id in tr_matched_set]"
   ]
  },
  {
   "cell_type": "code",
   "execution_count": 19,
   "metadata": {},
   "outputs": [
    {
     "name": "stdout",
     "output_type": "stream",
     "text": [
      "19083\n",
      "19079\n"
     ]
    }
   ],
   "source": [
    "print(len(arr_all7))\n",
    "print(len(arr_all8))"
   ]
  },
  {
   "cell_type": "code",
   "execution_count": 20,
   "metadata": {},
   "outputs": [
    {
     "name": "stdout",
     "output_type": "stream",
     "text": [
      "Correct: 0 0.0\n",
      "Incorrect: 0 0.0\n",
      "0\n",
      "19079\n"
     ]
    }
   ],
   "source": [
    "arr_mtch9, arr_all9 = unique_pair(arr_all8)\n",
    "print(len(arr_mtch9))\n",
    "print(len(arr_all9))"
   ]
  },
  {
   "cell_type": "code",
   "execution_count": 21,
   "metadata": {},
   "outputs": [],
   "source": [
    "#data = pd.DataFrame(arr_all7, columns=['Set ID', 'Amount', 'Type', 'Match ID', 'Item ID', 'REF_KEY', 'SL_type']) \n",
    "#PATH2 = \"/Users/sasha/Work/Projects/matching_experiment/data/OCBC2_EX/\"\n",
    "#data.to_excel(PATH2 + 'ALL7.xlsx', index=False, header = True)"
   ]
  },
  {
   "cell_type": "code",
   "execution_count": 39,
   "metadata": {},
   "outputs": [],
   "source": [
    "#def partial_match_homogenization(pms):\n",
    "    # list of rartial matches\n",
    "# pms = arr_partial\n",
    "# pms = sorted(pms, key = lambda x: x.set_id)\n",
    "# pms_groups = [list(v) for k,v in itertools.groupby(pms, key = lambda x: x.set_id)]\n",
    "\n",
    "# pms = arr_partial\n",
    "# pms = sorted(pms, key = lambda x: x.set_id)\n",
    "# pms_groups = [list(v) for k,v in itertools.groupby(pms, key = lambda x: x.set_id)]"
   ]
  },
  {
   "cell_type": "code",
   "execution_count": 29,
   "metadata": {},
   "outputs": [],
   "source": [
    "# arr_l = [x for x in arr_all if x.sl_type == 'L']\n",
    "# arr_s = [x for x in arr_all if x.sl_type == 'S']"
   ]
  },
  {
   "cell_type": "code",
   "execution_count": 30,
   "metadata": {},
   "outputs": [],
   "source": [
    "# xs_l = [x.ref_key.split()[0] for x in arr_l if not re.search(r\"^\\d{3}-\\d{6}\", x.ref_key)]"
   ]
  },
  {
   "cell_type": "code",
   "execution_count": 31,
   "metadata": {},
   "outputs": [],
   "source": [
    "# import collections\n",
    "# counter_l=collections.Counter(xs_l)\n",
    "# counter_s=collections.Counter(xs_s)\n",
    "# vals = list(counter.values())\n",
    "# keys = list(counter.keys())\n",
    "# xs = [keys[i] for i in range(len(vals)) if vals[i] == 1]"
   ]
  },
  {
   "cell_type": "code",
   "execution_count": 32,
   "metadata": {},
   "outputs": [],
   "source": [
    "#xs_s"
   ]
  },
  {
   "cell_type": "code",
   "execution_count": 33,
   "metadata": {},
   "outputs": [],
   "source": [
    "#counter_l.most_common()"
   ]
  },
  {
   "cell_type": "code",
   "execution_count": 34,
   "metadata": {},
   "outputs": [],
   "source": [
    "# xs = [x for x in arr_all if re.search(r\"^\\S*\\s\\+\\d+$\",x.ref_key)]\n",
    "# xs = [x for x in arr_all if re.search(r\"^EQ00\",x.ref_key)]\n",
    "# len(xs)"
   ]
  },
  {
   "cell_type": "code",
   "execution_count": 15,
   "metadata": {},
   "outputs": [],
   "source": [
    "## pattern for unique keys r\"A \\d{8} INW CLRG-\\d{3}-\""
   ]
  },
  {
   "cell_type": "code",
   "execution_count": 63,
   "metadata": {},
   "outputs": [
    {
     "name": "stdout",
     "output_type": "stream",
     "text": [
      "Number of transactions covered: 2756\n",
      "Number of complete matches: 48\n",
      "Consistency without singles:  (1139, 48, 1187)\n"
     ]
    }
   ],
   "source": [
    "arr_www = create_uk(arr_all4, r\"A\\s\\d{8}.*\\sTL\", lambda x : x[2:10] + '-' + x[-25:(-3)])\n",
    "print(\"Number of transactions covered:\", len(arr_www))\n",
    "consist_un = check_consistency(arr_www, exclude_unique = True)\n",
    "#consist_nn = check_consistency(arr_www, exclude_unique = False)\n",
    "print(\"Consistency without singles: \", consist_un)\n",
    "#print(\"Consistency with singles: \", consist_nn)"
   ]
  },
  {
   "cell_type": "code",
   "execution_count": 37,
   "metadata": {},
   "outputs": [
    {
     "data": {
      "text/plain": [
       "0.581068362661495"
      ]
     },
     "execution_count": 37,
     "metadata": {},
     "output_type": "execute_result"
    }
   ],
   "source": [
    "1 - 14689 / (17532 + 17531)"
   ]
  },
  {
   "cell_type": "code",
   "execution_count": 50,
   "metadata": {},
   "outputs": [
    {
     "data": {
      "text/plain": [
       "14689"
      ]
     },
     "execution_count": 50,
     "metadata": {},
     "output_type": "execute_result"
    }
   ],
   "source": [
    "19079 - 1138 - 2153 - 579 - 520"
   ]
  },
  {
   "cell_type": "code",
   "execution_count": 38,
   "metadata": {},
   "outputs": [
    {
     "data": {
      "text/plain": [
       "34691"
      ]
     },
     "execution_count": 38,
     "metadata": {},
     "output_type": "execute_result"
    }
   ],
   "source": [
    "17532 + 17159"
   ]
  },
  {
   "cell_type": "code",
   "execution_count": 61,
   "metadata": {},
   "outputs": [
    {
     "name": "stdout",
     "output_type": "stream",
     "text": [
      "Coverage 0.5300193495899206\n"
     ]
    }
   ],
   "source": [
    "print(\"Coverage\", 1 - (19079 - (1138)) / len(arr_all))"
   ]
  },
  {
   "cell_type": "code",
   "execution_count": 44,
   "metadata": {},
   "outputs": [],
   "source": [
    "# create partial matches\n",
    "arr_key = arr_www\n",
    "arr_key = sorted(arr_key, key=get_comb_key)\n",
    "groups = [list(value) for key, value in groupby(arr_key, key=get_comb_key)]"
   ]
  },
  {
   "cell_type": "code",
   "execution_count": 45,
   "metadata": {},
   "outputs": [],
   "source": [
    "partial_matches = []\n",
    "complete_matches = []\n",
    "for match in groups:\n",
    "    set_id = match[0].set_id\n",
    "    net_sum = sum(x.amount for x in match)\n",
    "    if len(match) > 1:\n",
    "        if net_sum == 0:\n",
    "            complete_matches += match\n",
    "        else:\n",
    "            item_ids = [x.item_id for x in match]\n",
    "            pm = PartialMatch(\n",
    "                set_id=set_id,\n",
    "                amount=net_sum,\n",
    "                type_id=list(set([x.type_id for x in match])),\n",
    "                match_id=None,\n",
    "                item_id = \"_\".join(item_ids),\n",
    "                item_ids=item_ids,\n",
    "                ref_key=None,\n",
    "                sl_type=list(set([x.sl_type for x in match])))\n",
    "            partial_matches.append(pm)"
   ]
  },
  {
   "cell_type": "code",
   "execution_count": 46,
   "metadata": {},
   "outputs": [
    {
     "data": {
      "text/plain": [
       "PartialMatch(set_id='ID0-105-219-21637-999-99-999-USD', amount=Decimal('-604000.2'), type_id=['DR'], match_id=None, item_id='400707398-0_400707399-0_400707446-0_400707350-0', item_ids=['400707398-0', '400707399-0', '400707446-0', '400707350-0'], ref_key=None, sl_type=['L'])"
      ]
     },
     "execution_count": 46,
     "metadata": {},
     "output_type": "execute_result"
    }
   ],
   "source": [
    "partial_matches[0]"
   ]
  },
  {
   "cell_type": "code",
   "execution_count": 49,
   "metadata": {},
   "outputs": [
    {
     "name": "stdout",
     "output_type": "stream",
     "text": [
      "9608\n",
      "9613\n"
     ]
    }
   ],
   "source": [
    "item_ids = []\n",
    "for pm in partial_matches:\n",
    "    item_ids += pm.item_ids\n",
    "\n",
    "item_ids_set = set(item_ids)\n",
    "print(len(item_ids_set))\n",
    "print(len(item_ids))\n",
    "#assert len(item_ids) == len(item_ids_set)"
   ]
  },
  {
   "cell_type": "code",
   "execution_count": 50,
   "metadata": {},
   "outputs": [],
   "source": [
    "arr_all5 = [x for x in arr_all4 if not x.item_id in item_ids_set]"
   ]
  },
  {
   "cell_type": "code",
   "execution_count": 51,
   "metadata": {},
   "outputs": [],
   "source": [
    "#item_ids_set"
   ]
  },
  {
   "cell_type": "code",
   "execution_count": 52,
   "metadata": {},
   "outputs": [
    {
     "name": "stdout",
     "output_type": "stream",
     "text": [
      "126342\n",
      "116728\n"
     ]
    }
   ],
   "source": [
    "print(len(arr_all4))\n",
    "print(len(arr_all5))"
   ]
  },
  {
   "cell_type": "code",
   "execution_count": 53,
   "metadata": {},
   "outputs": [
    {
     "data": {
      "text/plain": [
       "PartialMatch(set_id='ID0-401-464-21693-999-99-999-SGD', amount=Decimal('-9437.70'), type_id=['DR'], match_id=None, item_id='400496469-0_400496464-0_400496463-0_400496461-0_400496462-0_400496459-0_400496454-0_400496455-0_400496456-0_400496457-0_400496458-0_400496471-0_400496472-0_400496473-0', item_ids=['400496469-0', '400496464-0', '400496463-0', '400496461-0', '400496462-0', '400496459-0', '400496454-0', '400496455-0', '400496456-0', '400496457-0', '400496458-0', '400496471-0', '400496472-0', '400496473-0'], ref_key=None, sl_type=['L'])"
      ]
     },
     "execution_count": 53,
     "metadata": {},
     "output_type": "execute_result"
    }
   ],
   "source": [
    "partial_matches[20]"
   ]
  },
  {
   "cell_type": "code",
   "execution_count": 54,
   "metadata": {},
   "outputs": [],
   "source": [
    "arr_all5_ = arr_all5 + partial_matches"
   ]
  },
  {
   "cell_type": "code",
   "execution_count": 55,
   "metadata": {},
   "outputs": [],
   "source": [
    "#[x for x in arr_all5 if x.set_id == 'ID0-401-501-21886-999-99-999-SGD']"
   ]
  },
  {
   "cell_type": "code",
   "execution_count": 56,
   "metadata": {},
   "outputs": [
    {
     "data": {
      "text/plain": [
       "utils.Transaction"
      ]
     },
     "execution_count": 56,
     "metadata": {},
     "output_type": "execute_result"
    }
   ],
   "source": [
    "type(arr_all5_[111310])"
   ]
  },
  {
   "cell_type": "code",
   "execution_count": 57,
   "metadata": {},
   "outputs": [
    {
     "name": "stdout",
     "output_type": "stream",
     "text": [
      "119041\n"
     ]
    }
   ],
   "source": [
    "print(len(arr_all5_))"
   ]
  },
  {
   "cell_type": "code",
   "execution_count": 58,
   "metadata": {},
   "outputs": [
    {
     "name": "stdout",
     "output_type": "stream",
     "text": [
      "Correct: 288 0.24\n",
      "Incorrect: 172 0.14\n",
      "632\n",
      "118409\n"
     ]
    }
   ],
   "source": [
    "arr_mtch6, arr_all6 = unique_pair(arr_all5_)\n",
    "print(len(arr_mtch6))\n",
    "print(len(arr_all6))"
   ]
  },
  {
   "cell_type": "code",
   "execution_count": 42,
   "metadata": {},
   "outputs": [],
   "source": [
    "#arr_mtch6"
   ]
  },
  {
   "cell_type": "code",
   "execution_count": 25,
   "metadata": {},
   "outputs": [],
   "source": [
    "def is_ref_consist(ref, arr):\n",
    "    xs = [x for x in arr if re.search(ref, x.ref_key)]\n",
    "    lnxs = len(xs)\n",
    "    net_amount = sum([x.amount for x in xs])\n",
    "    num_matches = len(set([x.match_id for x in xs]))\n",
    "    \n",
    "    if num_matches > 1:\n",
    "        return (0, lnxs) # non-unique reference\n",
    "    if num_matches == 1 and lnxs > 1 and net_amount != 0:\n",
    "        return (1, lnxs)\n",
    "    if num_matches == 1 and lnxs > 1 and net_amount == 0:\n",
    "        return (2, lnxs)\n",
    "    return (3, lnxs)"
   ]
  },
  {
   "cell_type": "code",
   "execution_count": 26,
   "metadata": {},
   "outputs": [],
   "source": [
    "def get_candidates(xs, min_len = 3):\n",
    "    lnx = len(xs)\n",
    "    out = []\n",
    "    for i in range(lnx):\n",
    "        for j in range(i+min_len, lnx+1):\n",
    "            candidate = xs[i:j]\n",
    "            candidate = re.sub(r\"^\\s+\", \"\", candidate)\n",
    "            candidate = re.sub(r\"\\s+$\", \"\", candidate)\n",
    "            out.append(candidate)\n",
    "    return set(out)"
   ]
  },
  {
   "cell_type": "code",
   "execution_count": 28,
   "metadata": {},
   "outputs": [
    {
     "name": "stdout",
     "output_type": "stream",
     "text": [
      "12.246040105819702\n"
     ]
    }
   ],
   "source": [
    "# this code checks what part of string is important, could be slow\n",
    "splits = get_candidates(\"F9S1803126548600\", min_len = 6)\n",
    "\n",
    "t0 = time()\n",
    "out = [(spl,) + is_ref_consist(spl, arr_all) for spl in splits]\n",
    "refs = [x for x in out if x[1] in {1,2}]\n",
    "t1 = time() - t0\n",
    "\n",
    "print(t1)"
   ]
  },
  {
   "cell_type": "code",
   "execution_count": 35,
   "metadata": {},
   "outputs": [
    {
     "name": "stdout",
     "output_type": "stream",
     "text": [
      "[('F9S1803126548600', 2, 6),\n",
      " ('F9S180312654860', 2, 6),\n",
      " ('9S1803126548600', 2, 6),\n",
      " ('9S180312654860', 2, 6),\n",
      " ('F9S18031265486', 2, 6),\n",
      " ('S1803126548600', 2, 6),\n",
      " ('F9S1803126548', 2, 6),\n",
      " ('1803126548600', 2, 6),\n",
      " ('S180312654860', 2, 6),\n",
      " ('9S18031265486', 2, 6),\n",
      " ('180312654860', 2, 6),\n",
      " ('803126548600', 2, 6),\n",
      " ('F9S180312654', 2, 6),\n",
      " ('S18031265486', 2, 6),\n",
      " ('9S1803126548', 2, 6),\n",
      " ('03126548600', 2, 6),\n",
      " ('9S180312654', 2, 6),\n",
      " ('18031265486', 2, 6),\n",
      " ('F9S18031265', 2, 6),\n",
      " ('80312654860', 2, 6),\n",
      " ('S1803126548', 2, 6),\n",
      " ('8031265486', 2, 6),\n",
      " ('0312654860', 2, 6),\n",
      " ('F9S1803126', 2, 6),\n",
      " ('1803126548', 2, 6),\n",
      " ('3126548600', 2, 6),\n",
      " ('S180312654', 2, 6),\n",
      " ('9S18031265', 2, 6),\n",
      " ('S18031265', 2, 6),\n",
      " ('803126548', 2, 6),\n",
      " ('126548600', 2, 6),\n",
      " ('312654860', 2, 6),\n",
      " ('180312654', 2, 6),\n",
      " ('F9S180312', 2, 6),\n",
      " ('9S1803126', 2, 6),\n",
      " ('031265486', 2, 6),\n",
      " ('31265486', 2, 6),\n",
      " ('18031265', 2, 6),\n",
      " ('F9S18031', 2, 6),\n",
      " ('80312654', 2, 6),\n",
      " ('26548600', 2, 6),\n",
      " ('S1803126', 2, 6),\n",
      " ('12654860', 2, 6),\n",
      " ('9S180312', 2, 6),\n",
      " ('03126548', 2, 6),\n",
      " ('2654860', 2, 6),\n",
      " ('6548600', 2, 6),\n",
      " ('1265486', 2, 6),\n",
      " ('3126548', 2, 6),\n",
      " ('9S18031', 2, 6),\n",
      " ('1803126', 2, 6),\n",
      " ('0312654', 2, 6),\n",
      " ('S180312', 2, 6),\n",
      " ('8031265', 2, 6),\n",
      " ('654860', 2, 6),\n",
      " ('265486', 2, 6),\n",
      " ('803126', 2, 6),\n",
      " ('S18031', 2, 6),\n",
      " ('126548', 2, 6)]\n",
      "Suggested Ref:  126548\n"
     ]
    }
   ],
   "source": [
    "refs_sorted = sorted(refs, key = lambda x: (x[1], x[2], 1/len(x[0])))\n",
    "pprint(refs_sorted)\n",
    "suggested_ref = refs_sorted[-1]\n",
    "print(\"Suggested Ref: \", suggested_ref[0])"
   ]
  },
  {
   "cell_type": "code",
   "execution_count": 14,
   "metadata": {},
   "outputs": [],
   "source": [
    "# this needs additional investigation\n",
    "# xs = [x.ref_key for x in arr_all if re.search(r\"\\sTLGL\", x.ref_key)]\n",
    "# xs = [x.ref_key for x in arr_all if re.search(r\"A\\s\\d{8}.*\\sTLGL\", x.ref_key)]\n",
    "# print(len(xs))"
   ]
  },
  {
   "cell_type": "code",
   "execution_count": 78,
   "metadata": {},
   "outputs": [
    {
     "ename": "TypeError",
     "evalue": "expected string or bytes-like object",
     "output_type": "error",
     "traceback": [
      "\u001b[0;31m---------------------------------------------------------------------------\u001b[0m",
      "\u001b[0;31mTypeError\u001b[0m                                 Traceback (most recent call last)",
      "\u001b[0;32m<ipython-input-78-f56bafb4512d>\u001b[0m in \u001b[0;36m<module>\u001b[0;34m()\u001b[0m\n\u001b[0;32m----> 1\u001b[0;31m \u001b[0marr_www\u001b[0m \u001b[0;34m=\u001b[0m \u001b[0mcreate_uk\u001b[0m\u001b[0;34m(\u001b[0m\u001b[0marr_all9\u001b[0m\u001b[0;34m,\u001b[0m \u001b[0;34mr\"MX00[1-9]\\d{11}\"\u001b[0m\u001b[0;34m,\u001b[0m \u001b[0;32mlambda\u001b[0m \u001b[0mx\u001b[0m \u001b[0;34m:\u001b[0m \u001b[0mx\u001b[0m\u001b[0;34m[\u001b[0m\u001b[0;36m4\u001b[0m\u001b[0;34m:\u001b[0m\u001b[0;36m12\u001b[0m\u001b[0;34m]\u001b[0m\u001b[0;34m)\u001b[0m \u001b[0;34m+\u001b[0m \u001b[0mcreate_uk\u001b[0m\u001b[0;34m(\u001b[0m\u001b[0marr_all9\u001b[0m\u001b[0;34m,\u001b[0m \u001b[0;34mr\"MX0{9}[1-9]\\d{7}\"\u001b[0m\u001b[0;34m,\u001b[0m \u001b[0;32mlambda\u001b[0m \u001b[0mx\u001b[0m \u001b[0;34m:\u001b[0m \u001b[0mx\u001b[0m\u001b[0;34m[\u001b[0m\u001b[0;34m-\u001b[0m\u001b[0;36m8\u001b[0m\u001b[0;34m:\u001b[0m\u001b[0;34m]\u001b[0m\u001b[0;34m)\u001b[0m\u001b[0;34m\u001b[0m\u001b[0m\n\u001b[0m\u001b[1;32m      2\u001b[0m \u001b[0;34m\u001b[0m\u001b[0m\n\u001b[1;32m      3\u001b[0m \u001b[0mprint\u001b[0m\u001b[0;34m(\u001b[0m\u001b[0;34m\"Number of transactions covered:\"\u001b[0m\u001b[0;34m,\u001b[0m \u001b[0mlen\u001b[0m\u001b[0;34m(\u001b[0m\u001b[0marr_www\u001b[0m\u001b[0;34m)\u001b[0m\u001b[0;34m)\u001b[0m\u001b[0;34m\u001b[0m\u001b[0m\n\u001b[1;32m      4\u001b[0m \u001b[0mconsist_un\u001b[0m \u001b[0;34m=\u001b[0m \u001b[0mcheck_consistency\u001b[0m\u001b[0;34m(\u001b[0m\u001b[0marr_www\u001b[0m\u001b[0;34m,\u001b[0m \u001b[0mexclude_unique\u001b[0m \u001b[0;34m=\u001b[0m \u001b[0;32mTrue\u001b[0m\u001b[0;34m)\u001b[0m\u001b[0;34m\u001b[0m\u001b[0m\n\u001b[1;32m      5\u001b[0m \u001b[0mconsist_nn\u001b[0m \u001b[0;34m=\u001b[0m \u001b[0mcheck_consistency\u001b[0m\u001b[0;34m(\u001b[0m\u001b[0marr_www\u001b[0m\u001b[0;34m,\u001b[0m \u001b[0mexclude_unique\u001b[0m \u001b[0;34m=\u001b[0m \u001b[0;32mFalse\u001b[0m\u001b[0;34m)\u001b[0m\u001b[0;34m\u001b[0m\u001b[0m\n",
      "\u001b[0;32m~/Work/Projects/matching_ref/utils.py\u001b[0m in \u001b[0;36mcreate_uk\u001b[0;34m(arr_all, pattern, extractor)\u001b[0m\n\u001b[1;32m    573\u001b[0m     \u001b[0marr_out\u001b[0m \u001b[0;34m=\u001b[0m \u001b[0;34m[\u001b[0m\u001b[0;34m]\u001b[0m\u001b[0;34m\u001b[0m\u001b[0m\n\u001b[1;32m    574\u001b[0m     \u001b[0;32mfor\u001b[0m \u001b[0mx\u001b[0m \u001b[0;32min\u001b[0m \u001b[0marr_all\u001b[0m\u001b[0;34m:\u001b[0m\u001b[0;34m\u001b[0m\u001b[0m\n\u001b[0;32m--> 575\u001b[0;31m         \u001b[0mm\u001b[0m \u001b[0;34m=\u001b[0m \u001b[0mre\u001b[0m\u001b[0;34m.\u001b[0m\u001b[0msearch\u001b[0m\u001b[0;34m(\u001b[0m\u001b[0mpattern\u001b[0m\u001b[0;34m,\u001b[0m \u001b[0mx\u001b[0m\u001b[0;34m.\u001b[0m\u001b[0mref_key\u001b[0m\u001b[0;34m)\u001b[0m\u001b[0;34m\u001b[0m\u001b[0m\n\u001b[0m\u001b[1;32m    576\u001b[0m         \u001b[0;32mif\u001b[0m \u001b[0mm\u001b[0m\u001b[0;34m:\u001b[0m\u001b[0;34m\u001b[0m\u001b[0m\n\u001b[1;32m    577\u001b[0m             \u001b[0mkey\u001b[0m \u001b[0;34m=\u001b[0m \u001b[0mm\u001b[0m\u001b[0;34m.\u001b[0m\u001b[0mgroup\u001b[0m\u001b[0;34m(\u001b[0m\u001b[0;34m)\u001b[0m\u001b[0;34m\u001b[0m\u001b[0m\n",
      "\u001b[0;32m/usr/local/Cellar/python/3.7.0/Frameworks/Python.framework/Versions/3.7/lib/python3.7/re.py\u001b[0m in \u001b[0;36msearch\u001b[0;34m(pattern, string, flags)\u001b[0m\n\u001b[1;32m    181\u001b[0m     \"\"\"Scan through string looking for a match to the pattern, returning\n\u001b[1;32m    182\u001b[0m     a Match object, or None if no match was found.\"\"\"\n\u001b[0;32m--> 183\u001b[0;31m     \u001b[0;32mreturn\u001b[0m \u001b[0m_compile\u001b[0m\u001b[0;34m(\u001b[0m\u001b[0mpattern\u001b[0m\u001b[0;34m,\u001b[0m \u001b[0mflags\u001b[0m\u001b[0;34m)\u001b[0m\u001b[0;34m.\u001b[0m\u001b[0msearch\u001b[0m\u001b[0;34m(\u001b[0m\u001b[0mstring\u001b[0m\u001b[0;34m)\u001b[0m\u001b[0;34m\u001b[0m\u001b[0m\n\u001b[0m\u001b[1;32m    184\u001b[0m \u001b[0;34m\u001b[0m\u001b[0m\n\u001b[1;32m    185\u001b[0m \u001b[0;32mdef\u001b[0m \u001b[0msub\u001b[0m\u001b[0;34m(\u001b[0m\u001b[0mpattern\u001b[0m\u001b[0;34m,\u001b[0m \u001b[0mrepl\u001b[0m\u001b[0;34m,\u001b[0m \u001b[0mstring\u001b[0m\u001b[0;34m,\u001b[0m \u001b[0mcount\u001b[0m\u001b[0;34m=\u001b[0m\u001b[0;36m0\u001b[0m\u001b[0;34m,\u001b[0m \u001b[0mflags\u001b[0m\u001b[0;34m=\u001b[0m\u001b[0;36m0\u001b[0m\u001b[0;34m)\u001b[0m\u001b[0;34m:\u001b[0m\u001b[0;34m\u001b[0m\u001b[0m\n",
      "\u001b[0;31mTypeError\u001b[0m: expected string or bytes-like object"
     ]
    }
   ],
   "source": [
    "arr_www = create_uk(arr_all9, r\"MX00[1-9]\\d{11}\", lambda x : x[4:12]) + create_uk(arr_all9, r\"MX0{9}[1-9]\\d{7}\", lambda x : x[-8:])\n",
    "\n",
    "print(\"Number of transactions covered:\", len(arr_www))\n",
    "consist_un = check_consistency(arr_www, exclude_unique = True)\n",
    "consist_nn = check_consistency(arr_www, exclude_unique = False)\n",
    "print(\"Consistency without singles: \", consist_un)\n",
    "print(\"Consistency with singles: \", consist_nn)"
   ]
  },
  {
   "cell_type": "code",
   "execution_count": 20,
   "metadata": {},
   "outputs": [],
   "source": [
    "uks = set([x.unique_key for x in arr_www]) "
   ]
  },
  {
   "cell_type": "code",
   "execution_count": null,
   "metadata": {},
   "outputs": [],
   "source": [
    "# the above transactions could be matched with non-pattern transactions"
   ]
  },
  {
   "cell_type": "code",
   "execution_count": 33,
   "metadata": {},
   "outputs": [
    {
     "name": "stdout",
     "output_type": "stream",
     "text": [
      "(1, 1, Decimal('-492180'))\n",
      "(1, 1, Decimal('-492180'))\n"
     ]
    }
   ],
   "source": [
    "# here is an example for a single key\n",
    "uk = '33900287'\n",
    "tmp = [x for x in arr_all if re.search(uk, x.ref_key)]\n",
    "tmp = sorted(tmp, key = lambda x : x.set_id)\n",
    "groups = [list(value) for key, value in itertools.groupby(tmp, key=lambda x: x.set_id)]\n",
    "for group in groups:\n",
    "    len_set = len(set([x.match_id for x in group]))\n",
    "    amount = sum([x.amount for x in group])\n",
    "    pprint((len(group), len_set, amount))"
   ]
  },
  {
   "cell_type": "code",
   "execution_count": 34,
   "metadata": {},
   "outputs": [],
   "source": [
    "# example for all the keys, slow\n",
    "out = []\n",
    "for uk in uks:\n",
    "    tmp = [x for x in arr_all if re.search(uk, x.ref_key)]\n",
    "    tmp = sorted(tmp, key = lambda x : x.set_id)\n",
    "    groups = [list(value) for key, value in itertools.groupby(tmp, key=lambda x: x.set_id)]\n",
    "    for group in groups:\n",
    "        len_set = len(set([x.match_id for x in group]))\n",
    "        amount = sum([x.amount for x in group])\n",
    "        out.append((len(group), len_set, amount))"
   ]
  },
  {
   "cell_type": "code",
   "execution_count": 38,
   "metadata": {},
   "outputs": [],
   "source": [
    "len1 = sum(x[0] for x in out if x[1] == 1)\n",
    "len2 = sum(x[0] for x in out if x[1] != 1)"
   ]
  }
 ],
 "metadata": {
  "kernelspec": {
   "display_name": "Python 3",
   "language": "python",
   "name": "python3"
  },
  "language_info": {
   "codemirror_mode": {
    "name": "ipython",
    "version": 3
   },
   "file_extension": ".py",
   "mimetype": "text/x-python",
   "name": "python",
   "nbconvert_exporter": "python",
   "pygments_lexer": "ipython3",
   "version": "3.7.0"
  }
 },
 "nbformat": 4,
 "nbformat_minor": 2
}
